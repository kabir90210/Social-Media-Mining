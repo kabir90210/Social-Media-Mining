{
  "nbformat": 4,
  "nbformat_minor": 0,
  "metadata": {
    "colab": {
      "provenance": []
    },
    "kernelspec": {
      "name": "python3",
      "display_name": "Python 3"
    },
    "language_info": {
      "name": "python"
    }
  },
  "cells": [
    {
      "cell_type": "code",
      "execution_count": 2,
      "metadata": {
        "colab": {
          "base_uri": "https://localhost:8080/"
        },
        "id": "xpN32qAv1Rnq",
        "outputId": "a1b838fb-da3a-4d94-9a08-7f1e77434a55"
      },
      "outputs": [
        {
          "output_type": "stream",
          "name": "stdout",
          "text": [
            "Collecting praw\n",
            "  Downloading praw-7.7.1-py3-none-any.whl (191 kB)\n",
            "\u001b[?25l     \u001b[90m━━━━━━━━━━━━━━━━━━━━━━━━━━━━━━━━━━━━━━━━\u001b[0m \u001b[32m0.0/191.0 kB\u001b[0m \u001b[31m?\u001b[0m eta \u001b[36m-:--:--\u001b[0m\r\u001b[2K     \u001b[91m━━━━━━━━━━━━━━━━━━━━━━━━━━━━━━━━━━━━━━\u001b[0m\u001b[91m╸\u001b[0m\u001b[90m━\u001b[0m \u001b[32m184.3/191.0 kB\u001b[0m \u001b[31m5.6 MB/s\u001b[0m eta \u001b[36m0:00:01\u001b[0m\r\u001b[2K     \u001b[90m━━━━━━━━━━━━━━━━━━━━━━━━━━━━━━━━━━━━━━━━\u001b[0m \u001b[32m191.0/191.0 kB\u001b[0m \u001b[31m4.1 MB/s\u001b[0m eta \u001b[36m0:00:00\u001b[0m\n",
            "\u001b[?25hCollecting prawcore<3,>=2.1 (from praw)\n",
            "  Downloading prawcore-2.4.0-py3-none-any.whl (17 kB)\n",
            "Collecting update-checker>=0.18 (from praw)\n",
            "  Downloading update_checker-0.18.0-py3-none-any.whl (7.0 kB)\n",
            "Requirement already satisfied: websocket-client>=0.54.0 in /usr/local/lib/python3.10/dist-packages (from praw) (1.7.0)\n",
            "Requirement already satisfied: requests<3.0,>=2.6.0 in /usr/local/lib/python3.10/dist-packages (from prawcore<3,>=2.1->praw) (2.31.0)\n",
            "Requirement already satisfied: charset-normalizer<4,>=2 in /usr/local/lib/python3.10/dist-packages (from requests<3.0,>=2.6.0->prawcore<3,>=2.1->praw) (3.3.2)\n",
            "Requirement already satisfied: idna<4,>=2.5 in /usr/local/lib/python3.10/dist-packages (from requests<3.0,>=2.6.0->prawcore<3,>=2.1->praw) (3.6)\n",
            "Requirement already satisfied: urllib3<3,>=1.21.1 in /usr/local/lib/python3.10/dist-packages (from requests<3.0,>=2.6.0->prawcore<3,>=2.1->praw) (2.0.7)\n",
            "Requirement already satisfied: certifi>=2017.4.17 in /usr/local/lib/python3.10/dist-packages (from requests<3.0,>=2.6.0->prawcore<3,>=2.1->praw) (2024.2.2)\n",
            "Installing collected packages: update-checker, prawcore, praw\n",
            "Successfully installed praw-7.7.1 prawcore-2.4.0 update-checker-0.18.0\n"
          ]
        }
      ],
      "source": [
        "pip install praw"
      ]
    },
    {
      "cell_type": "code",
      "source": [
        "import praw\n",
        "import pandas as pd\n",
        "from datetime import datetime, timedelta\n",
        "\n",
        "reddit = praw.Reddit(client_id='AMJkWd1kA9tFU2YY0ighSg',\n",
        "                     client_secret='Y3mBSD0rgzG9d_DJM0YClRYANN7E-g',\n",
        "                     user_agent='test',\n",
        "                     username='Kabir1026',\n",
        "                     password='#SMM@1234')"
      ],
      "metadata": {
        "id": "kAEinVLZ1gb5"
      },
      "execution_count": 3,
      "outputs": []
    },
    {
      "cell_type": "code",
      "source": [
        "print(reddit.user.me())"
      ],
      "metadata": {
        "colab": {
          "base_uri": "https://localhost:8080/"
        },
        "id": "8tJxJ_q-1j0n",
        "outputId": "81f6056d-4fc0-44ac-e239-f90589e40248"
      },
      "execution_count": null,
      "outputs": [
        {
          "output_type": "stream",
          "name": "stderr",
          "text": [
            "WARNING:praw:It appears that you are using PRAW in an asynchronous environment.\n",
            "It is strongly recommended to use Async PRAW: https://asyncpraw.readthedocs.io.\n",
            "See https://praw.readthedocs.io/en/latest/getting_started/multiple_instances.html#discord-bots-and-asynchronous-environments for more info.\n",
            "\n"
          ]
        },
        {
          "output_type": "stream",
          "name": "stdout",
          "text": [
            "Kabir1026\n"
          ]
        }
      ]
    },
    {
      "cell_type": "code",
      "source": [
        "pip install asyncpraw"
      ],
      "metadata": {
        "colab": {
          "base_uri": "https://localhost:8080/"
        },
        "id": "wpalvWZq1mMB",
        "outputId": "e1394f0a-3ccd-4fde-a465-5f3ad4dfe6f7"
      },
      "execution_count": null,
      "outputs": [
        {
          "output_type": "stream",
          "name": "stdout",
          "text": [
            "Collecting asyncpraw\n",
            "  Downloading asyncpraw-7.7.1-py3-none-any.whl (196 kB)\n",
            "\u001b[2K     \u001b[90m━━━━━━━━━━━━━━━━━━━━━━━━━━━━━━━━━━━━━━━━\u001b[0m \u001b[32m196.7/196.7 kB\u001b[0m \u001b[31m2.0 MB/s\u001b[0m eta \u001b[36m0:00:00\u001b[0m\n",
            "\u001b[?25hCollecting aiofiles<1 (from asyncpraw)\n",
            "  Downloading aiofiles-0.8.0-py3-none-any.whl (13 kB)\n",
            "Requirement already satisfied: aiohttp<4 in /usr/local/lib/python3.10/dist-packages (from asyncpraw) (3.9.3)\n",
            "Collecting aiosqlite<=0.17.0 (from asyncpraw)\n",
            "  Downloading aiosqlite-0.17.0-py3-none-any.whl (15 kB)\n",
            "Collecting asyncprawcore<3,>=2.1 (from asyncpraw)\n",
            "  Downloading asyncprawcore-2.4.0-py3-none-any.whl (19 kB)\n",
            "Requirement already satisfied: update-checker>=0.18 in /usr/local/lib/python3.10/dist-packages (from asyncpraw) (0.18.0)\n",
            "Requirement already satisfied: aiosignal>=1.1.2 in /usr/local/lib/python3.10/dist-packages (from aiohttp<4->asyncpraw) (1.3.1)\n",
            "Requirement already satisfied: attrs>=17.3.0 in /usr/local/lib/python3.10/dist-packages (from aiohttp<4->asyncpraw) (23.2.0)\n",
            "Requirement already satisfied: frozenlist>=1.1.1 in /usr/local/lib/python3.10/dist-packages (from aiohttp<4->asyncpraw) (1.4.1)\n",
            "Requirement already satisfied: multidict<7.0,>=4.5 in /usr/local/lib/python3.10/dist-packages (from aiohttp<4->asyncpraw) (6.0.5)\n",
            "Requirement already satisfied: yarl<2.0,>=1.0 in /usr/local/lib/python3.10/dist-packages (from aiohttp<4->asyncpraw) (1.9.4)\n",
            "Requirement already satisfied: async-timeout<5.0,>=4.0 in /usr/local/lib/python3.10/dist-packages (from aiohttp<4->asyncpraw) (4.0.3)\n",
            "Requirement already satisfied: typing_extensions>=3.7.2 in /usr/local/lib/python3.10/dist-packages (from aiosqlite<=0.17.0->asyncpraw) (4.10.0)\n",
            "Requirement already satisfied: requests>=2.3.0 in /usr/local/lib/python3.10/dist-packages (from update-checker>=0.18->asyncpraw) (2.31.0)\n",
            "Requirement already satisfied: charset-normalizer<4,>=2 in /usr/local/lib/python3.10/dist-packages (from requests>=2.3.0->update-checker>=0.18->asyncpraw) (3.3.2)\n",
            "Requirement already satisfied: idna<4,>=2.5 in /usr/local/lib/python3.10/dist-packages (from requests>=2.3.0->update-checker>=0.18->asyncpraw) (3.6)\n",
            "Requirement already satisfied: urllib3<3,>=1.21.1 in /usr/local/lib/python3.10/dist-packages (from requests>=2.3.0->update-checker>=0.18->asyncpraw) (2.0.7)\n",
            "Requirement already satisfied: certifi>=2017.4.17 in /usr/local/lib/python3.10/dist-packages (from requests>=2.3.0->update-checker>=0.18->asyncpraw) (2024.2.2)\n",
            "Installing collected packages: aiosqlite, aiofiles, asyncprawcore, asyncpraw\n",
            "Successfully installed aiofiles-0.8.0 aiosqlite-0.17.0 asyncpraw-7.7.1 asyncprawcore-2.4.0\n"
          ]
        }
      ]
    },
    {
      "cell_type": "code",
      "source": [
        "pip install asyncio"
      ],
      "metadata": {
        "colab": {
          "base_uri": "https://localhost:8080/",
          "height": 201
        },
        "id": "Wx9bsA9J1onf",
        "outputId": "c2dac5c6-fd5e-44fb-c9d7-55bd2e76ffd4"
      },
      "execution_count": null,
      "outputs": [
        {
          "output_type": "stream",
          "name": "stdout",
          "text": [
            "Collecting asyncio\n",
            "  Downloading asyncio-3.4.3-py3-none-any.whl (101 kB)\n",
            "\u001b[2K     \u001b[90m━━━━━━━━━━━━━━━━━━━━━━━━━━━━━━━━━━━━━━━━\u001b[0m \u001b[32m101.8/101.8 kB\u001b[0m \u001b[31m2.5 MB/s\u001b[0m eta \u001b[36m0:00:00\u001b[0m\n",
            "\u001b[?25hInstalling collected packages: asyncio\n",
            "Successfully installed asyncio-3.4.3\n"
          ]
        },
        {
          "output_type": "display_data",
          "data": {
            "application/vnd.colab-display-data+json": {
              "pip_warning": {
                "packages": [
                  "asyncio"
                ]
              },
              "id": "d4d7e4b7ea6e41fb8ad9e97a26b33a27"
            }
          },
          "metadata": {}
        }
      ]
    },
    {
      "cell_type": "code",
      "source": [
        "import asyncpraw\n",
        "from datetime import datetime\n",
        "import pandas as pd\n",
        "\n",
        "async def main():\n",
        "    # Note: Make sure to use 'asyncpraw' instead of 'praw' for async operations\n",
        "    reddit = await asyncpraw.Reddit(client_id='AMJkWd1kA9tFU2YY0ighSg',\n",
        "                                    client_secret='Y3mBSD0rgzG9d_DJM0YClRYANN7E-g',\n",
        "                                    user_agent='test',\n",
        "                                    username='Kabir1026',\n",
        "                                    password='#SMM@1234')\n",
        "\n",
        "    post_id = '144lfc1'\n",
        "    # Remove the 'await' as 'submission' is not an async function\n",
        "    post = await reddit.submission(id=post_id)\n",
        "    await post.comments.replace_more(limit=0)\n",
        "    comments = await post.comments.list()\n",
        "    data = []\n",
        "    start_date = datetime(2023, 5, 10)\n",
        "    end_date = datetime(2023, 12, 31)\n",
        "\n",
        "    for comment in comments:\n",
        "        comment_date = datetime.utcfromtimestamp(comment.created_utc)\n",
        "        if start_date <= comment_date <= end_date:\n",
        "            author = comment.author.name if comment.author else '[deleted]'\n",
        "            text = comment.body\n",
        "            score = comment.score\n",
        "            data.append([author, text, comment_date, score])\n",
        "\n",
        "    df = pd.DataFrame(data, columns=['Author', 'Text', 'Date', 'Score'])\n",
        "    df.to_csv('GPT1.csv', index=False)\n",
        "\n",
        "    await reddit.close()\n",
        "\n",
        "# Remember to run your main function in an environment that supports async, such as an async environment in Python\n",
        "# For example, using: asyncio.run(main())\n"
      ],
      "metadata": {
        "id": "GB2aJtWH1uZS",
        "colab": {
          "base_uri": "https://localhost:8080/",
          "height": 385
        },
        "outputId": "f0f9921a-c3ee-4085-f83b-ae08b3bd5cfb"
      },
      "execution_count": 4,
      "outputs": [
        {
          "output_type": "error",
          "ename": "ModuleNotFoundError",
          "evalue": "No module named 'asyncpraw'",
          "traceback": [
            "\u001b[0;31m---------------------------------------------------------------------------\u001b[0m",
            "\u001b[0;31mModuleNotFoundError\u001b[0m                       Traceback (most recent call last)",
            "\u001b[0;32m<ipython-input-4-7ad88cf5a7eb>\u001b[0m in \u001b[0;36m<cell line: 1>\u001b[0;34m()\u001b[0m\n\u001b[0;32m----> 1\u001b[0;31m \u001b[0;32mimport\u001b[0m \u001b[0masyncpraw\u001b[0m\u001b[0;34m\u001b[0m\u001b[0;34m\u001b[0m\u001b[0m\n\u001b[0m\u001b[1;32m      2\u001b[0m \u001b[0;32mfrom\u001b[0m \u001b[0mdatetime\u001b[0m \u001b[0;32mimport\u001b[0m \u001b[0mdatetime\u001b[0m\u001b[0;34m\u001b[0m\u001b[0;34m\u001b[0m\u001b[0m\n\u001b[1;32m      3\u001b[0m \u001b[0;32mimport\u001b[0m \u001b[0mpandas\u001b[0m \u001b[0;32mas\u001b[0m \u001b[0mpd\u001b[0m\u001b[0;34m\u001b[0m\u001b[0;34m\u001b[0m\u001b[0m\n\u001b[1;32m      4\u001b[0m \u001b[0;34m\u001b[0m\u001b[0m\n\u001b[1;32m      5\u001b[0m \u001b[0;32masync\u001b[0m \u001b[0;32mdef\u001b[0m \u001b[0mmain\u001b[0m\u001b[0;34m(\u001b[0m\u001b[0;34m)\u001b[0m\u001b[0;34m:\u001b[0m\u001b[0;34m\u001b[0m\u001b[0;34m\u001b[0m\u001b[0m\n",
            "\u001b[0;31mModuleNotFoundError\u001b[0m: No module named 'asyncpraw'",
            "",
            "\u001b[0;31m---------------------------------------------------------------------------\u001b[0;32m\nNOTE: If your import is failing due to a missing package, you can\nmanually install dependencies using either !pip or !apt.\n\nTo view examples of installing some common dependencies, click the\n\"Open Examples\" button below.\n\u001b[0;31m---------------------------------------------------------------------------\u001b[0m\n"
          ],
          "errorDetails": {
            "actions": [
              {
                "action": "open_url",
                "actionText": "Open Examples",
                "url": "/notebooks/snippets/importing_libraries.ipynb"
              }
            ]
          }
        }
      ]
    },
    {
      "cell_type": "code",
      "source": [
        "import praw\n",
        "from datetime import datetime\n",
        "import pandas as pd\n",
        "\n",
        "reddit = praw.Reddit(client_id='AMJkWd1kA9tFU2YY0ighSg',\n",
        "                     client_secret='Y3mBSD0rgzG9d_DJM0YClRYANN7E-g',\n",
        "                     user_agent='test',\n",
        "                     username='Kabir1026',\n",
        "                     password='#SMM@1234')\n",
        "\n",
        "post_id = '144lfc1'\n",
        "\n",
        "post = reddit.submission(id=post_id)\n",
        "post.comments.replace_more(limit=0)\n",
        "comments = post.comments.list()\n",
        "data = []\n",
        "start_date = datetime(2023, 5, 10)\n",
        "end_date = datetime(2023, 12, 31)\n",
        "\n",
        "for comment in comments:\n",
        "    comment_date = datetime.utcfromtimestamp(comment.created_utc)\n",
        "    if start_date <= comment_date <= end_date:\n",
        "        author = comment.author.name if comment.author else '[deleted]'\n",
        "        text = comment.body\n",
        "        score = comment.score\n",
        "        data.append([author, text, comment_date, score])\n",
        "df = pd.DataFrame(data, columns=['Author', 'Text', 'Date', 'Score'])\n",
        "df.to_csv('gpt1.csv', index=False)\n"
      ],
      "metadata": {
        "id": "PGWBqXcrJfLv",
        "colab": {
          "base_uri": "https://localhost:8080/"
        },
        "outputId": "bf3fd7c7-377a-4e5b-f6de-f0a645b14379"
      },
      "execution_count": 5,
      "outputs": [
        {
          "output_type": "stream",
          "name": "stderr",
          "text": [
            "WARNING:praw:It appears that you are using PRAW in an asynchronous environment.\n",
            "It is strongly recommended to use Async PRAW: https://asyncpraw.readthedocs.io.\n",
            "See https://praw.readthedocs.io/en/latest/getting_started/multiple_instances.html#discord-bots-and-asynchronous-environments for more info.\n",
            "\n"
          ]
        }
      ]
    },
    {
      "cell_type": "code",
      "source": [
        "import praw\n",
        "from datetime import datetime\n",
        "import pandas as pd\n",
        "\n",
        "reddit = praw.Reddit(client_id='AMJkWd1kA9tFU2YY0ighSg',\n",
        "                     client_secret='Y3mBSD0rgzG9d_DJM0YClRYANN7E-g',\n",
        "                     user_agent='test',\n",
        "                     username='Kabir1026',\n",
        "                     password='#SMM@1234')\n",
        "\n",
        "post_id = '13ty988'\n",
        "\n",
        "post = reddit.submission(id=post_id)\n",
        "post.comments.replace_more(limit=0)\n",
        "comments = post.comments.list()\n",
        "data = []\n",
        "start_date = datetime(2023, 5, 10)\n",
        "end_date = datetime(2023, 12, 31)\n",
        "\n",
        "for comment in comments:\n",
        "    comment_date = datetime.utcfromtimestamp(comment.created_utc)\n",
        "    if start_date <= comment_date <= end_date:\n",
        "        author = comment.author.name if comment.author else '[deleted]'\n",
        "        text = comment.body\n",
        "        score = comment.score\n",
        "        data.append([author, text, comment_date, score])\n",
        "df = pd.DataFrame(data, columns=['Author', 'Text', 'Date', 'Score'])\n",
        "df.to_csv('gpt2.csv', index=False)\n"
      ],
      "metadata": {
        "colab": {
          "base_uri": "https://localhost:8080/"
        },
        "id": "2fj-SGRmnlgS",
        "outputId": "1a63ad56-b549-4f09-f059-7b68e65aa6d7"
      },
      "execution_count": 6,
      "outputs": [
        {
          "output_type": "stream",
          "name": "stderr",
          "text": [
            "WARNING:praw:It appears that you are using PRAW in an asynchronous environment.\n",
            "It is strongly recommended to use Async PRAW: https://asyncpraw.readthedocs.io.\n",
            "See https://praw.readthedocs.io/en/latest/getting_started/multiple_instances.html#discord-bots-and-asynchronous-environments for more info.\n",
            "\n"
          ]
        }
      ]
    },
    {
      "cell_type": "code",
      "source": [
        "import praw\n",
        "from datetime import datetime\n",
        "import pandas as pd\n",
        "\n",
        "reddit = praw.Reddit(client_id='AMJkWd1kA9tFU2YY0ighSg',\n",
        "                     client_secret='Y3mBSD0rgzG9d_DJM0YClRYANN7E-g',\n",
        "                     user_agent='test',\n",
        "                     username='Kabir1026',\n",
        "                     password='#SMM@1234')\n",
        "\n",
        "post_id = 'zj2aeu'\n",
        "\n",
        "post = reddit.submission(id=post_id)\n",
        "post.comments.replace_more(limit=0)\n",
        "comments = post.comments.list()\n",
        "data = []\n",
        "start_date = datetime(2022, 12, 3)\n",
        "end_date = datetime(2023, 12, 31)\n",
        "\n",
        "for comment in comments:\n",
        "    comment_date = datetime.utcfromtimestamp(comment.created_utc)\n",
        "    if start_date <= comment_date <= end_date:\n",
        "        author = comment.author.name if comment.author else '[deleted]'\n",
        "        text = comment.body\n",
        "        score = comment.score\n",
        "        data.append([author, text, comment_date, score])\n",
        "df = pd.DataFrame(data, columns=['Author', 'Text', 'Date', 'Score'])\n",
        "df.to_csv('gpt_22_2.csv', index=False)\n"
      ],
      "metadata": {
        "colab": {
          "base_uri": "https://localhost:8080/"
        },
        "id": "Vus6whZwoPvW",
        "outputId": "596db1f1-3524-4e2d-f6f8-a97f91ace7a9"
      },
      "execution_count": 10,
      "outputs": [
        {
          "output_type": "stream",
          "name": "stderr",
          "text": [
            "WARNING:praw:It appears that you are using PRAW in an asynchronous environment.\n",
            "It is strongly recommended to use Async PRAW: https://asyncpraw.readthedocs.io.\n",
            "See https://praw.readthedocs.io/en/latest/getting_started/multiple_instances.html#discord-bots-and-asynchronous-environments for more info.\n",
            "\n"
          ]
        }
      ]
    },
    {
      "cell_type": "code",
      "source": [
        "# Define the subreddit and time range for the search\n",
        "import praw\n",
        "import pandas as pd\n",
        "from datetime import datetime, timedelta\n",
        "\n",
        "subreddit = 'chatgpt'\n",
        "start_date = datetime(2022, 1, 1)\n",
        "end_date = datetime(2022, 12, 31)\n",
        "\n",
        "# Search for submissions in the subreddit during the specified time range\n",
        "submissions = reddit.subreddit(subreddit).hot(limit=None)\n",
        "\n",
        "# Create a list to store the data\n",
        "data = []\n",
        "\n",
        "# Iterate through the submissions and extract the desired data\n",
        "for submission in submissions:\n",
        "    submission_date = datetime.fromtimestamp(submission.created_utc)\n",
        "    if start_date <= submission_date <= end_date:\n",
        "        title = submission.title\n",
        "        author = submission.author.name if submission.author else '[deleted]'\n",
        "        score = submission.score\n",
        "        created_utc = submission.created_utc\n",
        "        data.append([title, author, score, created_utc])\n",
        "\n",
        "# Create a pandas DataFrame from the data\n",
        "df = pd.DataFrame(data, columns=['Title', 'Author', 'Score', 'Created_UTC'])\n",
        "\n",
        "# Write the DataFrame to a CSV file\n",
        "df.to_csv('gpt_22data.csv', index=False)"
      ],
      "metadata": {
        "colab": {
          "base_uri": "https://localhost:8080/"
        },
        "id": "8IdjDo08o0Ji",
        "outputId": "b0c407c7-3a3e-41ce-ac20-461e9c3154a8"
      },
      "execution_count": 9,
      "outputs": [
        {
          "output_type": "stream",
          "name": "stderr",
          "text": [
            "WARNING:praw:It appears that you are using PRAW in an asynchronous environment.\n",
            "It is strongly recommended to use Async PRAW: https://asyncpraw.readthedocs.io.\n",
            "See https://praw.readthedocs.io/en/latest/getting_started/multiple_instances.html#discord-bots-and-asynchronous-environments for more info.\n",
            "\n",
            "WARNING:praw:It appears that you are using PRAW in an asynchronous environment.\n",
            "It is strongly recommended to use Async PRAW: https://asyncpraw.readthedocs.io.\n",
            "See https://praw.readthedocs.io/en/latest/getting_started/multiple_instances.html#discord-bots-and-asynchronous-environments for more info.\n",
            "\n",
            "WARNING:praw:It appears that you are using PRAW in an asynchronous environment.\n",
            "It is strongly recommended to use Async PRAW: https://asyncpraw.readthedocs.io.\n",
            "See https://praw.readthedocs.io/en/latest/getting_started/multiple_instances.html#discord-bots-and-asynchronous-environments for more info.\n",
            "\n",
            "WARNING:praw:It appears that you are using PRAW in an asynchronous environment.\n",
            "It is strongly recommended to use Async PRAW: https://asyncpraw.readthedocs.io.\n",
            "See https://praw.readthedocs.io/en/latest/getting_started/multiple_instances.html#discord-bots-and-asynchronous-environments for more info.\n",
            "\n",
            "WARNING:praw:It appears that you are using PRAW in an asynchronous environment.\n",
            "It is strongly recommended to use Async PRAW: https://asyncpraw.readthedocs.io.\n",
            "See https://praw.readthedocs.io/en/latest/getting_started/multiple_instances.html#discord-bots-and-asynchronous-environments for more info.\n",
            "\n",
            "WARNING:praw:It appears that you are using PRAW in an asynchronous environment.\n",
            "It is strongly recommended to use Async PRAW: https://asyncpraw.readthedocs.io.\n",
            "See https://praw.readthedocs.io/en/latest/getting_started/multiple_instances.html#discord-bots-and-asynchronous-environments for more info.\n",
            "\n",
            "WARNING:praw:It appears that you are using PRAW in an asynchronous environment.\n",
            "It is strongly recommended to use Async PRAW: https://asyncpraw.readthedocs.io.\n",
            "See https://praw.readthedocs.io/en/latest/getting_started/multiple_instances.html#discord-bots-and-asynchronous-environments for more info.\n",
            "\n",
            "WARNING:praw:It appears that you are using PRAW in an asynchronous environment.\n",
            "It is strongly recommended to use Async PRAW: https://asyncpraw.readthedocs.io.\n",
            "See https://praw.readthedocs.io/en/latest/getting_started/multiple_instances.html#discord-bots-and-asynchronous-environments for more info.\n",
            "\n"
          ]
        }
      ]
    },
    {
      "cell_type": "code",
      "source": [],
      "metadata": {
        "id": "xojK_oRmvTL7"
      },
      "execution_count": null,
      "outputs": []
    }
  ]
}