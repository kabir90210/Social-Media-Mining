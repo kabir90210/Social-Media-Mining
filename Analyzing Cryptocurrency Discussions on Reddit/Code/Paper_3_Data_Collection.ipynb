{
  "nbformat": 4,
  "nbformat_minor": 0,
  "metadata": {
    "colab": {
      "provenance": []
    },
    "kernelspec": {
      "name": "python3",
      "display_name": "Python 3"
    },
    "language_info": {
      "name": "python"
    }
  },
  "cells": [
    {
      "cell_type": "code",
      "execution_count": 1,
      "metadata": {
        "colab": {
          "base_uri": "https://localhost:8080/"
        },
        "id": "xpN32qAv1Rnq",
        "outputId": "37e413fc-c378-461c-8961-071e2334040d"
      },
      "outputs": [
        {
          "output_type": "stream",
          "name": "stdout",
          "text": [
            "Collecting praw\n",
            "  Downloading praw-7.7.1-py3-none-any.whl (191 kB)\n",
            "\u001b[?25l     \u001b[90m━━━━━━━━━━━━━━━━━━━━━━━━━━━━━━━━━━━━━━━━\u001b[0m \u001b[32m0.0/191.0 kB\u001b[0m \u001b[31m?\u001b[0m eta \u001b[36m-:--:--\u001b[0m\r\u001b[2K     \u001b[91m━━━━━━━━━━━━━━━━━━━━━━━\u001b[0m\u001b[91m╸\u001b[0m\u001b[90m━━━━━━━━━━━━━━━━\u001b[0m \u001b[32m112.6/191.0 kB\u001b[0m \u001b[31m3.3 MB/s\u001b[0m eta \u001b[36m0:00:01\u001b[0m\r\u001b[2K     \u001b[90m━━━━━━━━━━━━━━━━━━━━━━━━━━━━━━━━━━━━━━━━\u001b[0m \u001b[32m191.0/191.0 kB\u001b[0m \u001b[31m3.4 MB/s\u001b[0m eta \u001b[36m0:00:00\u001b[0m\n",
            "\u001b[?25hCollecting prawcore<3,>=2.1 (from praw)\n",
            "  Downloading prawcore-2.4.0-py3-none-any.whl (17 kB)\n",
            "Collecting update-checker>=0.18 (from praw)\n",
            "  Downloading update_checker-0.18.0-py3-none-any.whl (7.0 kB)\n",
            "Requirement already satisfied: websocket-client>=0.54.0 in /usr/local/lib/python3.10/dist-packages (from praw) (1.7.0)\n",
            "Requirement already satisfied: requests<3.0,>=2.6.0 in /usr/local/lib/python3.10/dist-packages (from prawcore<3,>=2.1->praw) (2.31.0)\n",
            "Requirement already satisfied: charset-normalizer<4,>=2 in /usr/local/lib/python3.10/dist-packages (from requests<3.0,>=2.6.0->prawcore<3,>=2.1->praw) (3.3.2)\n",
            "Requirement already satisfied: idna<4,>=2.5 in /usr/local/lib/python3.10/dist-packages (from requests<3.0,>=2.6.0->prawcore<3,>=2.1->praw) (3.7)\n",
            "Requirement already satisfied: urllib3<3,>=1.21.1 in /usr/local/lib/python3.10/dist-packages (from requests<3.0,>=2.6.0->prawcore<3,>=2.1->praw) (2.0.7)\n",
            "Requirement already satisfied: certifi>=2017.4.17 in /usr/local/lib/python3.10/dist-packages (from requests<3.0,>=2.6.0->prawcore<3,>=2.1->praw) (2024.2.2)\n",
            "Installing collected packages: update-checker, prawcore, praw\n",
            "Successfully installed praw-7.7.1 prawcore-2.4.0 update-checker-0.18.0\n"
          ]
        }
      ],
      "source": [
        "pip install praw"
      ]
    },
    {
      "cell_type": "code",
      "source": [
        "import praw\n",
        "import pandas as pd\n",
        "from datetime import datetime, timedelta\n",
        "\n",
        "reddit = praw.Reddit(client_id='AMJkWd1kA9tFU2YY0ighSg',\n",
        "                     client_secret='Y3mBSD0rgzG9d_DJM0YClRYANN7E-g',\n",
        "                     user_agent='test',\n",
        "                     username='Kabir1026',\n",
        "                     password='amPzW(#,hDXn,2H')"
      ],
      "metadata": {
        "id": "kAEinVLZ1gb5"
      },
      "execution_count": 1,
      "outputs": []
    },
    {
      "cell_type": "code",
      "source": [
        "print(reddit.user.me())"
      ],
      "metadata": {
        "colab": {
          "base_uri": "https://localhost:8080/"
        },
        "id": "8tJxJ_q-1j0n",
        "outputId": "53b8a522-fbf1-4c07-8fbb-491abd27a21f"
      },
      "execution_count": 2,
      "outputs": [
        {
          "output_type": "stream",
          "name": "stderr",
          "text": [
            "WARNING:praw:It appears that you are using PRAW in an asynchronous environment.\n",
            "It is strongly recommended to use Async PRAW: https://asyncpraw.readthedocs.io.\n",
            "See https://praw.readthedocs.io/en/latest/getting_started/multiple_instances.html#discord-bots-and-asynchronous-environments for more info.\n",
            "\n"
          ]
        },
        {
          "output_type": "stream",
          "name": "stdout",
          "text": [
            "Kabir1026\n"
          ]
        }
      ]
    },
    {
      "cell_type": "code",
      "source": [
        "pip install asyncpraw"
      ],
      "metadata": {
        "colab": {
          "base_uri": "https://localhost:8080/"
        },
        "id": "wpalvWZq1mMB",
        "outputId": "1927fc2a-3888-4050-ecfa-7e3b22472580"
      },
      "execution_count": 4,
      "outputs": [
        {
          "output_type": "stream",
          "name": "stdout",
          "text": [
            "Collecting asyncpraw\n",
            "  Downloading asyncpraw-7.7.1-py3-none-any.whl (196 kB)\n",
            "\u001b[?25l     \u001b[90m━━━━━━━━━━━━━━━━━━━━━━━━━━━━━━━━━━━━━━━━\u001b[0m \u001b[32m0.0/196.7 kB\u001b[0m \u001b[31m?\u001b[0m eta \u001b[36m-:--:--\u001b[0m\r\u001b[2K     \u001b[91m━━━━━━━━━━━━━━━━━━━━━━━━━━━━━━━━━━━━━━━\u001b[0m\u001b[91m╸\u001b[0m \u001b[32m194.6/196.7 kB\u001b[0m \u001b[31m6.1 MB/s\u001b[0m eta \u001b[36m0:00:01\u001b[0m\r\u001b[2K     \u001b[90m━━━━━━━━━━━━━━━━━━━━━━━━━━━━━━━━━━━━━━━━\u001b[0m \u001b[32m196.7/196.7 kB\u001b[0m \u001b[31m4.4 MB/s\u001b[0m eta \u001b[36m0:00:00\u001b[0m\n",
            "\u001b[?25hCollecting aiofiles<1 (from asyncpraw)\n",
            "  Downloading aiofiles-0.8.0-py3-none-any.whl (13 kB)\n",
            "Requirement already satisfied: aiohttp<4 in /usr/local/lib/python3.10/dist-packages (from asyncpraw) (3.9.5)\n",
            "Collecting aiosqlite<=0.17.0 (from asyncpraw)\n",
            "  Downloading aiosqlite-0.17.0-py3-none-any.whl (15 kB)\n",
            "Collecting asyncprawcore<3,>=2.1 (from asyncpraw)\n",
            "  Downloading asyncprawcore-2.4.0-py3-none-any.whl (19 kB)\n",
            "Requirement already satisfied: update-checker>=0.18 in /usr/local/lib/python3.10/dist-packages (from asyncpraw) (0.18.0)\n",
            "Requirement already satisfied: aiosignal>=1.1.2 in /usr/local/lib/python3.10/dist-packages (from aiohttp<4->asyncpraw) (1.3.1)\n",
            "Requirement already satisfied: attrs>=17.3.0 in /usr/local/lib/python3.10/dist-packages (from aiohttp<4->asyncpraw) (23.2.0)\n",
            "Requirement already satisfied: frozenlist>=1.1.1 in /usr/local/lib/python3.10/dist-packages (from aiohttp<4->asyncpraw) (1.4.1)\n",
            "Requirement already satisfied: multidict<7.0,>=4.5 in /usr/local/lib/python3.10/dist-packages (from aiohttp<4->asyncpraw) (6.0.5)\n",
            "Requirement already satisfied: yarl<2.0,>=1.0 in /usr/local/lib/python3.10/dist-packages (from aiohttp<4->asyncpraw) (1.9.4)\n",
            "Requirement already satisfied: async-timeout<5.0,>=4.0 in /usr/local/lib/python3.10/dist-packages (from aiohttp<4->asyncpraw) (4.0.3)\n",
            "Requirement already satisfied: typing_extensions>=3.7.2 in /usr/local/lib/python3.10/dist-packages (from aiosqlite<=0.17.0->asyncpraw) (4.11.0)\n",
            "Requirement already satisfied: requests>=2.3.0 in /usr/local/lib/python3.10/dist-packages (from update-checker>=0.18->asyncpraw) (2.31.0)\n",
            "Requirement already satisfied: charset-normalizer<4,>=2 in /usr/local/lib/python3.10/dist-packages (from requests>=2.3.0->update-checker>=0.18->asyncpraw) (3.3.2)\n",
            "Requirement already satisfied: idna<4,>=2.5 in /usr/local/lib/python3.10/dist-packages (from requests>=2.3.0->update-checker>=0.18->asyncpraw) (3.7)\n",
            "Requirement already satisfied: urllib3<3,>=1.21.1 in /usr/local/lib/python3.10/dist-packages (from requests>=2.3.0->update-checker>=0.18->asyncpraw) (2.0.7)\n",
            "Requirement already satisfied: certifi>=2017.4.17 in /usr/local/lib/python3.10/dist-packages (from requests>=2.3.0->update-checker>=0.18->asyncpraw) (2024.2.2)\n",
            "Installing collected packages: aiosqlite, aiofiles, asyncprawcore, asyncpraw\n",
            "Successfully installed aiofiles-0.8.0 aiosqlite-0.17.0 asyncpraw-7.7.1 asyncprawcore-2.4.0\n"
          ]
        }
      ]
    },
    {
      "cell_type": "code",
      "source": [
        "reddit = praw.Reddit(client_id='AMJkWd1kA9tFU2YY0ighSg',\n",
        "                     client_secret='Y3mBSD0rgzG9d_DJM0YClRYANN7E-g',\n",
        "                     user_agent='test',\n",
        "                     username='Kabir1026',\n",
        "                     password='amPzW(#,hDXn,2H')"
      ],
      "metadata": {
        "id": "OmAwx3QZ2xjf"
      },
      "execution_count": 4,
      "outputs": []
    },
    {
      "cell_type": "code",
      "source": [
        "import praw\n",
        "from datetime import datetime\n",
        "import pandas as pd"
      ],
      "metadata": {
        "id": "uUwQnGvn20mx"
      },
      "execution_count": 6,
      "outputs": []
    },
    {
      "cell_type": "markdown",
      "source": [
        "## **Data from r/CryptoCurrency:**"
      ],
      "metadata": {
        "id": "ZSDlP1uQ48I9"
      }
    },
    {
      "cell_type": "code",
      "source": [
        "import praw\n",
        "from datetime import datetime\n",
        "import pandas as pd\n",
        "\n",
        "# Defining the timeframe for filtering comments\n",
        "start_date = datetime(2022, 3, 1)  # Start date\n",
        "end_date = datetime(2024, 3, 31)  # End date\n",
        "\n",
        "# Post IDs for the two Reddit posts\n",
        "post_ids = ['18c21ja', '1bs480o']\n",
        "\n",
        "# Initialize a list to store data from both posts\n",
        "combined_data = []\n",
        "\n",
        "# Collect data from each post\n",
        "for post_id in post_ids:\n",
        "    post = reddit.submission(id=post_id)  # Get the post by ID\n",
        "    post.comments.replace_more(limit=0)  # Fetch all comments\n",
        "\n",
        "    # Extract and filter comments based on the defined timeframe\n",
        "    for comment in post.comments.list():\n",
        "        comment_date = datetime.utcfromtimestamp(comment.created_utc)  # Convert UTC timestamp to datetime\n",
        "        if start_date <= comment_date <= end_date:  # Check if the comment is within the timeframe\n",
        "            author = comment.author.name if comment.author else '[deleted]'\n",
        "            text = comment.body\n",
        "            score = comment.score\n",
        "\n",
        "            # Append the filtered comment data to the combined list\n",
        "            combined_data.append([author, text, comment_date, score])\n",
        "\n",
        "# Create a DataFrame with combined data and defined columns\n",
        "df_combined = pd.DataFrame(combined_data, columns=['Author', 'Text', 'Date', 'Score'])\n",
        "\n",
        "# Save the DataFrame to a CSV file\n",
        "csv_combined_filename = 'crypto_1.csv'\n",
        "df_combined.to_csv(csv_combined_filename, index=False)  # Save to CSV without index\n",
        "\n",
        "print(f\"Combined data saved to {csv_combined_filename}\")"
      ],
      "metadata": {
        "colab": {
          "base_uri": "https://localhost:8080/"
        },
        "id": "WpBft0eO2WR_",
        "outputId": "f0ec8851-2d68-432d-fbbe-d9873a7b8f46"
      },
      "execution_count": 8,
      "outputs": [
        {
          "output_type": "stream",
          "name": "stderr",
          "text": [
            "WARNING:praw:It appears that you are using PRAW in an asynchronous environment.\n",
            "It is strongly recommended to use Async PRAW: https://asyncpraw.readthedocs.io.\n",
            "See https://praw.readthedocs.io/en/latest/getting_started/multiple_instances.html#discord-bots-and-asynchronous-environments for more info.\n",
            "\n",
            "WARNING:praw:It appears that you are using PRAW in an asynchronous environment.\n",
            "It is strongly recommended to use Async PRAW: https://asyncpraw.readthedocs.io.\n",
            "See https://praw.readthedocs.io/en/latest/getting_started/multiple_instances.html#discord-bots-and-asynchronous-environments for more info.\n",
            "\n"
          ]
        },
        {
          "output_type": "stream",
          "name": "stdout",
          "text": [
            "Combined data saved to crypto_1.csv\n"
          ]
        }
      ]
    },
    {
      "cell_type": "markdown",
      "source": [
        "---\n",
        "---\n",
        "\n",
        "## **Data from r/Bitcoin:**"
      ],
      "metadata": {
        "id": "BYt37j5A2XGW"
      }
    },
    {
      "cell_type": "code",
      "source": [
        "import praw\n",
        "from datetime import datetime\n",
        "import pandas as pd\n",
        "\n",
        "# Defining the timeframe for filtering comments\n",
        "start_date = datetime(2022, 3, 1)  # Start date\n",
        "end_date = datetime(2024, 3, 31)  # End date\n",
        "\n",
        "# Post IDs for the two Reddit posts\n",
        "post_ids = ['1b6y5k3', '1axccd4']\n",
        "\n",
        "# Initialize a list to store data from both posts\n",
        "combined_data = []\n",
        "\n",
        "# Collect data from each post\n",
        "for post_id in post_ids:\n",
        "    post = reddit.submission(id=post_id)  # Get the post by ID\n",
        "    post.comments.replace_more(limit=0)  # Fetch all comments\n",
        "\n",
        "    # Extract and filter comments based on the defined timeframe\n",
        "    for comment in post.comments.list():\n",
        "        comment_date = datetime.utcfromtimestamp(comment.created_utc)  # Convert UTC timestamp to datetime\n",
        "        if start_date <= comment_date <= end_date:  # Check if the comment is within the timeframe\n",
        "            author = comment.author.name if comment.author else '[deleted]'\n",
        "            text = comment.body\n",
        "            score = comment.score\n",
        "\n",
        "            # Append the filtered comment data to the combined list\n",
        "            combined_data.append([author, text, comment_date, score])\n",
        "\n",
        "# Create a DataFrame with combined data and defined columns\n",
        "df_combined = pd.DataFrame(combined_data, columns=['Author', 'Text', 'Date', 'Score'])\n",
        "\n",
        "# Save the DataFrame to a CSV file\n",
        "csv_combined_filename = 'crypto_2.csv'\n",
        "df_combined.to_csv(csv_combined_filename, index=False)  # Save to CSV without index\n",
        "\n",
        "print(f\"Combined data saved to {csv_combined_filename}\")"
      ],
      "metadata": {
        "colab": {
          "base_uri": "https://localhost:8080/"
        },
        "id": "KOiQFDTU5Gzv",
        "outputId": "aee71f72-c47c-470d-c9f2-982b0a1c0667"
      },
      "execution_count": 9,
      "outputs": [
        {
          "output_type": "stream",
          "name": "stderr",
          "text": [
            "WARNING:praw:It appears that you are using PRAW in an asynchronous environment.\n",
            "It is strongly recommended to use Async PRAW: https://asyncpraw.readthedocs.io.\n",
            "See https://praw.readthedocs.io/en/latest/getting_started/multiple_instances.html#discord-bots-and-asynchronous-environments for more info.\n",
            "\n",
            "WARNING:praw:It appears that you are using PRAW in an asynchronous environment.\n",
            "It is strongly recommended to use Async PRAW: https://asyncpraw.readthedocs.io.\n",
            "See https://praw.readthedocs.io/en/latest/getting_started/multiple_instances.html#discord-bots-and-asynchronous-environments for more info.\n",
            "\n"
          ]
        },
        {
          "output_type": "stream",
          "name": "stdout",
          "text": [
            "Combined data saved to crypto_2.csv\n"
          ]
        }
      ]
    },
    {
      "cell_type": "code",
      "source": [
        "post_id = '17l7rsn'\n",
        "\n",
        "post = reddit.submission(id=post_id)\n",
        "post.comments.replace_more(limit=0)\n",
        "comments = post.comments.list()\n",
        "data = []\n",
        "# Defining the timeframe for filtering comments\n",
        "start_date = datetime(2022, 3, 1)  # Start date\n",
        "end_date = datetime(2024, 3, 31)  # End date\n",
        "\n",
        "for comment in comments:\n",
        "    comment_date = datetime.utcfromtimestamp(comment.created_utc)\n",
        "    if start_date <= comment_date <= end_date:\n",
        "        author = comment.author.name if comment.author else '[deleted]'\n",
        "        text = comment.body\n",
        "        score = comment.score\n",
        "        data.append([author, text, comment_date, score])\n",
        "df = pd.DataFrame(data, columns=['Author', 'Text', 'Date', 'Score'])\n",
        "df.to_csv('crypto_3.csv', index=False)"
      ],
      "metadata": {
        "colab": {
          "base_uri": "https://localhost:8080/"
        },
        "id": "SLYssIt_6q3X",
        "outputId": "9e7c2055-b8a7-43bf-aa19-1f6d2d7f42bc"
      },
      "execution_count": 12,
      "outputs": [
        {
          "output_type": "stream",
          "name": "stderr",
          "text": [
            "WARNING:praw:It appears that you are using PRAW in an asynchronous environment.\n",
            "It is strongly recommended to use Async PRAW: https://asyncpraw.readthedocs.io.\n",
            "See https://praw.readthedocs.io/en/latest/getting_started/multiple_instances.html#discord-bots-and-asynchronous-environments for more info.\n",
            "\n"
          ]
        }
      ]
    },
    {
      "cell_type": "code",
      "source": [],
      "metadata": {
        "id": "UY_67_G79aHc"
      },
      "execution_count": null,
      "outputs": []
    }
  ]
}